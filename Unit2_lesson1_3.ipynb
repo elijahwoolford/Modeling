{
 "cells": [
  {
   "cell_type": "markdown",
   "metadata": {},
   "source": [
    "1.Bad: What are the causes of the rate of juvenile delinquency in the U.S in 1994?\n",
    "2.Good\n",
    "3.Good\n",
    "4.Bad: How can we increase the rate of customers that AT&T serve in Washington D.C?\n",
    "5.Good\n",
    "6.Good\n",
    "7.Good\n",
    "8.Good\n",
    "9.Good\n",
    "10.Bad: What factors cause the google search algorithm to work?"
   ]
  }
 ],
 "metadata": {
  "kernelspec": {
   "display_name": "Python 3",
   "language": "python",
   "name": "python3"
  },
  "language_info": {
   "codemirror_mode": {
    "name": "ipython",
    "version": 3
   },
   "file_extension": ".py",
   "mimetype": "text/x-python",
   "name": "python",
   "nbconvert_exporter": "python",
   "pygments_lexer": "ipython3",
   "version": "3.5.1"
  }
 },
 "nbformat": 4,
 "nbformat_minor": 2
}
