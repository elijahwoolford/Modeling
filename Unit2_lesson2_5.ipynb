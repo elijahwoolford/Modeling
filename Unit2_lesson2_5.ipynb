{
 "cells": [
  {
   "cell_type": "markdown",
   "metadata": {},
   "source": [
    "cnty = Categorical \n",
    "idno = Continuous, ordinal\n",
    "year = Categorical \n",
    "tvtot = continuous, ratio\n",
    "ppltrst = continuous, ordianl\n",
    "pplfair = continuous, ordinal \n",
    "pplhlp = continuous, ordinal\n",
    "happy = continous, ordinal \n",
    "sclmeet = continuous, ordianl \n",
    "sclact = continous, ordinal \n",
    "gndr = categorical \n",
    "agea = continous, ratio\n",
    "partner = categorical \n"
   ]
  }
 ],
 "metadata": {
  "kernelspec": {
   "display_name": "Python 3",
   "language": "python",
   "name": "python3"
  },
  "language_info": {
   "codemirror_mode": {
    "name": "ipython",
    "version": 3
   },
   "file_extension": ".py",
   "mimetype": "text/x-python",
   "name": "python",
   "nbconvert_exporter": "python",
   "pygments_lexer": "ipython3",
   "version": "3.5.1"
  }
 },
 "nbformat": 4,
 "nbformat_minor": 2
}
